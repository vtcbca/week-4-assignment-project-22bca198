{
 "cells": [
  {
   "cell_type": "code",
   "execution_count": 1,
   "id": "a1781c74",
   "metadata": {},
   "outputs": [],
   "source": [
    "import sqlite3 as sq\n",
    "import datetime"
   ]
  },
  {
   "cell_type": "code",
   "execution_count": 2,
   "id": "0a633cde",
   "metadata": {},
   "outputs": [],
   "source": [
    "con = sq.connect(\"contactmanagementsystem.db\")"
   ]
  },
  {
   "cell_type": "code",
   "execution_count": 3,
   "id": "b22f8aeb",
   "metadata": {},
   "outputs": [],
   "source": [
    "cur = con.cursor()"
   ]
  },
  {
   "cell_type": "code",
   "execution_count": 4,
   "id": "2d6a1a5d",
   "metadata": {},
   "outputs": [
    {
     "data": {
      "text/plain": [
       "<sqlite3.Cursor at 0x1e8a93468c0>"
      ]
     },
     "execution_count": 4,
     "metadata": {},
     "output_type": "execute_result"
    }
   ],
   "source": [
    "cur.execute(\"\"\"create table if not exists contact\n",
    "               ( cid int primary key,\n",
    "                 fname text,\n",
    "                 lname text,\n",
    "                 contact number,\n",
    "                 email text,\n",
    "                 city text\n",
    "                 check ( email like '%_@_%._%')\n",
    "                );\"\"\")"
   ]
  },
  {
   "cell_type": "code",
   "execution_count": 5,
   "id": "45cb8197",
   "metadata": {},
   "outputs": [
    {
     "data": {
      "text/plain": [
       "<sqlite3.Cursor at 0x1e8a93468c0>"
      ]
     },
     "execution_count": 5,
     "metadata": {},
     "output_type": "execute_result"
    }
   ],
   "source": [
    "cur.execute(\"\"\"create table if not exists details_log\n",
    "                (\n",
    "                    \n",
    "                    fname text,\n",
    "                    lname text,\n",
    "                    newcontact number,\n",
    "                    oldcontact number,\n",
    "                    datetime text,\n",
    "                    operation text\n",
    "                    \n",
    "                )\"\"\")"
   ]
  },
  {
   "cell_type": "code",
   "execution_count": 6,
   "id": "ed1a4d2c",
   "metadata": {},
   "outputs": [
    {
     "data": {
      "text/plain": [
       "<sqlite3.Cursor at 0x1e8a93468c0>"
      ]
     },
     "execution_count": 6,
     "metadata": {},
     "output_type": "execute_result"
    }
   ],
   "source": [
    "cur.execute(\"\"\"create trigger if not exists insertdata\n",
    "               after insert on contact\n",
    "               begin\n",
    "                   insert into details_log\n",
    "                   values(new.fname,new.lname,new.contact,'NULL',datetime('now'),'insert');\n",
    "               end;\n",
    "                   \"\"\")"
   ]
  },
  {
   "cell_type": "code",
   "execution_count": 7,
   "id": "53838535",
   "metadata": {},
   "outputs": [
    {
     "data": {
      "text/plain": [
       "<sqlite3.Cursor at 0x1e8a93468c0>"
      ]
     },
     "execution_count": 7,
     "metadata": {},
     "output_type": "execute_result"
    }
   ],
   "source": [
    "cur.execute(\"\"\"create trigger if not exists deletedata\n",
    "               after delete on contact\n",
    "               begin\n",
    "                   insert into details_log\n",
    "                   values(old.fname,old.lname,'NULL',old.contact,datetime('now'),'delete');\n",
    "               end;\n",
    "                   \"\"\")"
   ]
  },
  {
   "cell_type": "code",
   "execution_count": 8,
   "id": "db87daf4",
   "metadata": {},
   "outputs": [
    {
     "data": {
      "text/plain": [
       "<sqlite3.Cursor at 0x1e8a93468c0>"
      ]
     },
     "execution_count": 8,
     "metadata": {},
     "output_type": "execute_result"
    }
   ],
   "source": [
    "cur.execute(\"\"\"create trigger if not exists updatedata\n",
    "               after update on contact\n",
    "               begin\n",
    "                   insert into details_log\n",
    "                   values(new.fname,new.lname,new.contact,old.contact,datetime('now'),'update');\n",
    "               end;\n",
    "                   \"\"\")"
   ]
  },
  {
   "cell_type": "code",
   "execution_count": 9,
   "id": "b227ad94",
   "metadata": {},
   "outputs": [],
   "source": [
    "def updaterecord(cd):\n",
    "    newcon=int(input(\"Enter new Contact Number:\"))\n",
    "    cur.execute(f\"Update contact set contact={newcon} where cid={cd};\")"
   ]
  },
  {
   "cell_type": "code",
   "execution_count": 10,
   "id": "5b02d437",
   "metadata": {},
   "outputs": [],
   "source": [
    "def deleterecord(cd):\n",
    "    cur.execute(f\"delete from contact where cid={cd}\")"
   ]
  },
  {
   "cell_type": "code",
   "execution_count": 11,
   "id": "6db5c0e8",
   "metadata": {},
   "outputs": [],
   "source": [
    "def searchrecord(cd):\n",
    "    cur.execute(f\"select * from contact where cid={cd}\")\n",
    "    row=cur.fetchall()\n",
    "    print(row)"
   ]
  },
  {
   "cell_type": "code",
   "execution_count": 12,
   "id": "2b87830c",
   "metadata": {},
   "outputs": [
    {
     "data": {
      "text/plain": [
       "<sqlite3.Cursor at 0x1e8a93468c0>"
      ]
     },
     "execution_count": 12,
     "metadata": {},
     "output_type": "execute_result"
    }
   ],
   "source": [
    "cur.execute(\"\"\"insert into contact values\n",
    "                (1,'om','patel',9874521020,'om@gmail.com','bardoli'),\n",
    "                (2,'raj','shah',7489656622,'raj@gmail.com','surat'),\n",
    "                (3,'sai','rajput',8596302023,'sai@gmail.com','mandvi'),\n",
    "                (4,'prem','patil',7489620101,'prem@gmail.com','vyara'),\n",
    "                (5,'henil','rabari',7485120302,'henil@gmail.com','madhi');\"\"\")"
   ]
  },
  {
   "cell_type": "code",
   "execution_count": 13,
   "id": "8d1dd380",
   "metadata": {},
   "outputs": [
    {
     "name": "stdout",
     "output_type": "stream",
     "text": [
      "Enter new Contact Number:8585748510\n"
     ]
    }
   ],
   "source": [
    "updaterecord(2)"
   ]
  },
  {
   "cell_type": "code",
   "execution_count": 14,
   "id": "b1c55a80",
   "metadata": {},
   "outputs": [],
   "source": [
    "deleterecord(3)"
   ]
  },
  {
   "cell_type": "code",
   "execution_count": 15,
   "id": "29df21ba",
   "metadata": {},
   "outputs": [
    {
     "name": "stdout",
     "output_type": "stream",
     "text": [
      "\n",
      "ID:1\n",
      "Fname:om\n",
      "Lname:patel\n",
      "Contact:9874521020\n",
      "Email:om@gmail.com\n",
      "city:bardoli\n",
      "\n",
      "ID:2\n",
      "Fname:raj\n",
      "Lname:shah\n",
      "Contact:8585748510\n",
      "Email:raj@gmail.com\n",
      "city:surat\n",
      "\n",
      "ID:4\n",
      "Fname:prem\n",
      "Lname:patil\n",
      "Contact:7489620101\n",
      "Email:prem@gmail.com\n",
      "city:vyara\n",
      "\n",
      "ID:5\n",
      "Fname:henil\n",
      "Lname:rabari\n",
      "Contact:7485120302\n",
      "Email:henil@gmail.com\n",
      "city:madhi\n"
     ]
    }
   ],
   "source": [
    "cur.execute(\"select * from contact\")\n",
    "row=cur.fetchall()\n",
    "for i in row:\n",
    "    print(f\"\\nID:{i[0]}\\nFname:{i[1]}\\nLname:{i[2]}\\nContact:{i[3]}\\nEmail:{i[4]}\\ncity:{i[5]}\")"
   ]
  },
  {
   "cell_type": "code",
   "execution_count": 16,
   "id": "f8968b2b",
   "metadata": {},
   "outputs": [
    {
     "name": "stdout",
     "output_type": "stream",
     "text": [
      "[('om', 'patel', 9874521020, 'NULL', '2023-08-10 07:11:12', 'insert'), ('raj', 'shah', 7489656622, 'NULL', '2023-08-10 07:11:12', 'insert'), ('sai', 'rajput', 8596302023, 'NULL', '2023-08-10 07:11:12', 'insert'), ('prem', 'patil', 7489620101, 'NULL', '2023-08-10 07:11:12', 'insert'), ('henil', 'rabari', 7485120302, 'NULL', '2023-08-10 07:11:12', 'insert'), ('raj', 'shah', 8585748510, 7489656622, '2023-08-10 07:12:18', 'update'), ('sai', 'rajput', 'NULL', 8596302023, '2023-08-10 07:12:40', 'delete')]\n",
      "\n",
      "Fname:om\n",
      "Lname:patel\n",
      "New-contact:9874521020\n",
      "Old-Contact:NULL\n",
      "Datetime:2023-08-10 07:11:12\n",
      "Operation:insert\n",
      "\n",
      "Fname:raj\n",
      "Lname:shah\n",
      "New-contact:7489656622\n",
      "Old-Contact:NULL\n",
      "Datetime:2023-08-10 07:11:12\n",
      "Operation:insert\n",
      "\n",
      "Fname:sai\n",
      "Lname:rajput\n",
      "New-contact:8596302023\n",
      "Old-Contact:NULL\n",
      "Datetime:2023-08-10 07:11:12\n",
      "Operation:insert\n",
      "\n",
      "Fname:prem\n",
      "Lname:patil\n",
      "New-contact:7489620101\n",
      "Old-Contact:NULL\n",
      "Datetime:2023-08-10 07:11:12\n",
      "Operation:insert\n",
      "\n",
      "Fname:henil\n",
      "Lname:rabari\n",
      "New-contact:7485120302\n",
      "Old-Contact:NULL\n",
      "Datetime:2023-08-10 07:11:12\n",
      "Operation:insert\n",
      "\n",
      "Fname:raj\n",
      "Lname:shah\n",
      "New-contact:8585748510\n",
      "Old-Contact:7489656622\n",
      "Datetime:2023-08-10 07:12:18\n",
      "Operation:update\n",
      "\n",
      "Fname:sai\n",
      "Lname:rajput\n",
      "New-contact:NULL\n",
      "Old-Contact:8596302023\n",
      "Datetime:2023-08-10 07:12:40\n",
      "Operation:delete\n"
     ]
    }
   ],
   "source": [
    "cur.execute(\"select * from details_log\")\n",
    "row1=cur.fetchall()\n",
    "print(row1)\n",
    "for i in row1:\n",
    "    print(f\"\\nFname:{i[0]}\\nLname:{i[1]}\\nNew-contact:{i[2]}\\nOld-Contact:{i[3]}\\nDatetime:{i[4]}\\nOperation:{i[5]}\")"
   ]
  },
  {
   "cell_type": "code",
   "execution_count": null,
   "id": "87b86261",
   "metadata": {},
   "outputs": [],
   "source": []
  }
 ],
 "metadata": {
  "kernelspec": {
   "display_name": "Python 3 (ipykernel)",
   "language": "python",
   "name": "python3"
  },
  "language_info": {
   "codemirror_mode": {
    "name": "ipython",
    "version": 3
   },
   "file_extension": ".py",
   "mimetype": "text/x-python",
   "name": "python",
   "nbconvert_exporter": "python",
   "pygments_lexer": "ipython3",
   "version": "3.11.4"
  }
 },
 "nbformat": 4,
 "nbformat_minor": 5
}
